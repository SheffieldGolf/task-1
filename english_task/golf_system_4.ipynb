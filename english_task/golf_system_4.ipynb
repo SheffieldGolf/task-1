{
 "cells": [
  {
   "cell_type": "markdown",
   "metadata": {},
   "source": [
    "# FastText System\n",
    "\n",
    "### 1. Data Preprocessing"
   ]
  },
  {
   "cell_type": "code",
   "execution_count": 1,
   "metadata": {},
   "outputs": [
    {
     "name": "stderr",
     "output_type": "stream",
     "text": [
      "[nltk_data] Downloading package wordnet to\n",
      "[nltk_data]     /home/tommcdonald/nltk_data...\n",
      "[nltk_data]   Package wordnet is already up-to-date!\n",
      "[nltk_data] Downloading package punkt to\n",
      "[nltk_data]     /home/tommcdonald/nltk_data...\n",
      "[nltk_data]   Package punkt is already up-to-date!\n",
      "[nltk_data] Downloading package averaged_perceptron_tagger to\n",
      "[nltk_data]     /home/tommcdonald/nltk_data...\n",
      "[nltk_data]   Package averaged_perceptron_tagger is already up-to-\n",
      "[nltk_data]       date!\n"
     ]
    }
   ],
   "source": [
    "import pandas as pd\n",
    "import numpy as np\n",
    "import re\n",
    "import nltk\n",
    "import emoji\n",
    "import fasttext\n",
    "from nltk.stem.lancaster import LancasterStemmer\n",
    "from nltk import word_tokenize, pos_tag\n",
    "from nltk.stem import WordNetLemmatizer\n",
    "from nltk.corpus import stopwords\n",
    "nltk.download('wordnet')\n",
    "nltk.download('punkt')\n",
    "nltk.download('averaged_perceptron_tagger')\n",
    "\n",
    "\n",
    "train = pd.read_csv('data/training.tsv', sep='\\t')\n",
    "dev = pd.read_csv('data/dev.tsv', sep='\\t')"
   ]
  },
  {
   "cell_type": "code",
   "execution_count": 2,
   "metadata": {},
   "outputs": [],
   "source": [
    "def remove_emoji(text):\n",
    "    return emoji.get_emoji_regexp().sub(u'', text)\n",
    "\n",
    "url_pattern = r\"https?:\\/\\/(?:www\\.|(?!www))[a-zA-Z0-9][a-zA-Z0-9-]+[a-zA-Z0-9]\\.[^\\s]{2,}|www\\.[a-zA-Z0-9][a-zA-Z0-9-]+[a-zA-Z0-9]\\.[^\\s]{2,}|https?:\\/\\/(?:www\\.|(?!www))[a-zA-Z0-9]+\\.[^\\s]{2,}|www\\.[a-zA-Z0-9]+\\.[^\\s]{2,}\"\n",
    "\n",
    "def text_processor(df):\n",
    "    for i in range(len(df)):\n",
    "        # 1. remove url.\n",
    "        text = re.sub(url_pattern, \"\", df.loc[i, 'tweet_text'])\n",
    "        # 2. tokenisation.\n",
    "        token_word = word_tokenize(text)\n",
    "        # 3. POS.\n",
    "        token_words = pos_tag(token_word)\n",
    "        # 4. WordNetLemmatizer\n",
    "        words_lematizer = []\n",
    "        wordnet_lematizer = WordNetLemmatizer()\n",
    "        for word, tag in token_words:\n",
    "            if tag.startswith('NN'):\n",
    "                word_lematizer =  wordnet_lematizer.lemmatize(word, pos='n')  \n",
    "            elif tag.startswith('VB'): \n",
    "                word_lematizer =  wordnet_lematizer.lemmatize(word, pos='v')  \n",
    "            elif tag.startswith('JJ'): \n",
    "                word_lematizer =  wordnet_lematizer.lemmatize(word, pos='a')  \n",
    "            elif tag.startswith('R'): \n",
    "                word_lematizer =  wordnet_lematizer.lemmatize(word, pos='r')\n",
    "            else: \n",
    "                word_lematizer =  wordnet_lematizer.lemmatize(word)\n",
    "            words_lematizer.append(word_lematizer)\n",
    "        # 5. lower case and remove stop words.\n",
    "        cleaned_words = [word.lower() for word in words_lematizer if word.lower() not in stopwords.words('english')]\n",
    "        # 6. remove punctuation.\n",
    "        characters = [',','’', '\\'','.','DBSCAN', ':', ';', '?', '(', ')', '[', ']', '&', '!', '*', '@', '#', '$', '%','-','...','^','{','}']\n",
    "        words_lists = [word for word in cleaned_words if word not in characters]\n",
    "        text = str()\n",
    "        for w in words_lists:\n",
    "            text+=w\n",
    "            text+=' '\n",
    "        # 7. remove emoji\n",
    "        df.loc[i, 'tweet_text'] = remove_emoji(text)\n",
    "    return df"
   ]
  },
  {
   "cell_type": "code",
   "execution_count": 3,
   "metadata": {},
   "outputs": [],
   "source": [
    "train_fast = text_processor(train).drop(['claim', 'topic_id', 'tweet_id', 'tweet_url'], axis=1)\n",
    "dev_fast = text_processor(dev).drop(['claim', 'topic_id', 'tweet_id', 'tweet_url'], axis=1)"
   ]
  },
  {
   "cell_type": "code",
   "execution_count": 4,
   "metadata": {},
   "outputs": [
    {
     "data": {
      "text/html": [
       "<div>\n",
       "<style scoped>\n",
       "    .dataframe tbody tr th:only-of-type {\n",
       "        vertical-align: middle;\n",
       "    }\n",
       "\n",
       "    .dataframe tbody tr th {\n",
       "        vertical-align: top;\n",
       "    }\n",
       "\n",
       "    .dataframe thead th {\n",
       "        text-align: right;\n",
       "    }\n",
       "</style>\n",
       "<table border=\"1\" class=\"dataframe\">\n",
       "  <thead>\n",
       "    <tr style=\"text-align: right;\">\n",
       "      <th></th>\n",
       "      <th>tweet_text</th>\n",
       "      <th>claim_worthiness</th>\n",
       "    </tr>\n",
       "  </thead>\n",
       "  <tbody>\n",
       "    <tr>\n",
       "      <th>0</th>\n",
       "      <td>since never get report medium want share copy ...</td>\n",
       "      <td>__label__Yes</td>\n",
       "    </tr>\n",
       "    <tr>\n",
       "      <th>1</th>\n",
       "      <td>thanks michaelbloomberg handy little unintenti...</td>\n",
       "      <td>__label__No</td>\n",
       "    </tr>\n",
       "    <tr>\n",
       "      <th>2</th>\n",
       "      <td>folks say `` corona virus n't big deal kill di...</td>\n",
       "      <td>__label__No</td>\n",
       "    </tr>\n",
       "    <tr>\n",
       "      <th>3</th>\n",
       "      <td>1 case corona virus india people crazy mask da...</td>\n",
       "      <td>__label__Yes</td>\n",
       "    </tr>\n",
       "  </tbody>\n",
       "</table>\n",
       "</div>"
      ],
      "text/plain": [
       "                                          tweet_text claim_worthiness\n",
       "0  since never get report medium want share copy ...     __label__Yes\n",
       "1  thanks michaelbloomberg handy little unintenti...      __label__No\n",
       "2  folks say `` corona virus n't big deal kill di...      __label__No\n",
       "3  1 case corona virus india people crazy mask da...     __label__Yes"
      ]
     },
     "execution_count": 4,
     "metadata": {},
     "output_type": "execute_result"
    }
   ],
   "source": [
    "train_fast['claim_worthiness'] = np.where(train_fast['claim_worthiness'] == 1, '__label__Yes', '__label__No') \n",
    "dev_fast['claim_worthiness'] = np.where(dev_fast['claim_worthiness'] == 1, '__label__Yes', '__label__No')\n",
    "\n",
    "train_fast.loc[:3]"
   ]
  },
  {
   "cell_type": "code",
   "execution_count": 5,
   "metadata": {},
   "outputs": [],
   "source": [
    "train_fast[['claim_worthiness', 'tweet_text']].to_csv('data/train_fast.txt', sep=' ', header=False, index=False)"
   ]
  },
  {
   "cell_type": "code",
   "execution_count": 6,
   "metadata": {},
   "outputs": [],
   "source": [
    "dev_fast[['claim_worthiness', 'tweet_text']].to_csv('data/dev_fast.txt', sep=' ', header=False, index=False)"
   ]
  },
  {
   "cell_type": "markdown",
   "metadata": {},
   "source": [
    "### 2. Modeling"
   ]
  },
  {
   "cell_type": "code",
   "execution_count": 137,
   "metadata": {},
   "outputs": [],
   "source": [
    "model = fasttext.train_supervised(input=\"data/train_fast.txt\", epoch=51, lr=0.065, wordNgrams=4)"
   ]
  },
  {
   "cell_type": "code",
   "execution_count": 138,
   "metadata": {},
   "outputs": [],
   "source": [
    "preds_proba = []\n",
    "\n",
    "for tweet in dev_fast['tweet_text']:\n",
    "    pred = model.predict(tweet)\n",
    "    if pred[0][0] == '__label__Yes':\n",
    "        preds_proba.append(pred[1][0])\n",
    "    else:\n",
    "        preds_proba.append(1 - pred[1][0])"
   ]
  },
  {
   "cell_type": "code",
   "execution_count": 139,
   "metadata": {},
   "outputs": [
    {
     "data": {
      "text/html": [
       "<div>\n",
       "<style scoped>\n",
       "    .dataframe tbody tr th:only-of-type {\n",
       "        vertical-align: middle;\n",
       "    }\n",
       "\n",
       "    .dataframe tbody tr th {\n",
       "        vertical-align: top;\n",
       "    }\n",
       "\n",
       "    .dataframe thead th {\n",
       "        text-align: right;\n",
       "    }\n",
       "</style>\n",
       "<table border=\"1\" class=\"dataframe\">\n",
       "  <thead>\n",
       "    <tr style=\"text-align: right;\">\n",
       "      <th></th>\n",
       "      <th>topic_id</th>\n",
       "      <th>tweet_id</th>\n",
       "      <th>score</th>\n",
       "      <th>run_id</th>\n",
       "    </tr>\n",
       "  </thead>\n",
       "  <tbody>\n",
       "    <tr>\n",
       "      <th>0</th>\n",
       "      <td>covid-19</td>\n",
       "      <td>1235714275752267776</td>\n",
       "      <td>0.544319</td>\n",
       "      <td>Model_4</td>\n",
       "    </tr>\n",
       "    <tr>\n",
       "      <th>1</th>\n",
       "      <td>covid-19</td>\n",
       "      <td>1235256530728972290</td>\n",
       "      <td>0.424780</td>\n",
       "      <td>Model_4</td>\n",
       "    </tr>\n",
       "    <tr>\n",
       "      <th>2</th>\n",
       "      <td>covid-19</td>\n",
       "      <td>1235648554338791427</td>\n",
       "      <td>0.348335</td>\n",
       "      <td>Model_4</td>\n",
       "    </tr>\n",
       "    <tr>\n",
       "      <th>3</th>\n",
       "      <td>covid-19</td>\n",
       "      <td>1235674258858061825</td>\n",
       "      <td>0.547828</td>\n",
       "      <td>Model_4</td>\n",
       "    </tr>\n",
       "    <tr>\n",
       "      <th>4</th>\n",
       "      <td>covid-19</td>\n",
       "      <td>1235663306246860800</td>\n",
       "      <td>0.501010</td>\n",
       "      <td>Model_4</td>\n",
       "    </tr>\n",
       "    <tr>\n",
       "      <th>...</th>\n",
       "      <td>...</td>\n",
       "      <td>...</td>\n",
       "      <td>...</td>\n",
       "      <td>...</td>\n",
       "    </tr>\n",
       "    <tr>\n",
       "      <th>145</th>\n",
       "      <td>covid-19</td>\n",
       "      <td>1235914080931766274</td>\n",
       "      <td>0.529747</td>\n",
       "      <td>Model_4</td>\n",
       "    </tr>\n",
       "    <tr>\n",
       "      <th>146</th>\n",
       "      <td>covid-19</td>\n",
       "      <td>1235770706765451264</td>\n",
       "      <td>0.488351</td>\n",
       "      <td>Model_4</td>\n",
       "    </tr>\n",
       "    <tr>\n",
       "      <th>147</th>\n",
       "      <td>covid-19</td>\n",
       "      <td>1235973416995315712</td>\n",
       "      <td>0.525457</td>\n",
       "      <td>Model_4</td>\n",
       "    </tr>\n",
       "    <tr>\n",
       "      <th>148</th>\n",
       "      <td>covid-19</td>\n",
       "      <td>1235675024738185239</td>\n",
       "      <td>0.414652</td>\n",
       "      <td>Model_4</td>\n",
       "    </tr>\n",
       "    <tr>\n",
       "      <th>149</th>\n",
       "      <td>covid-19</td>\n",
       "      <td>1235682242774437888</td>\n",
       "      <td>0.503702</td>\n",
       "      <td>Model_4</td>\n",
       "    </tr>\n",
       "  </tbody>\n",
       "</table>\n",
       "<p>150 rows × 4 columns</p>\n",
       "</div>"
      ],
      "text/plain": [
       "     topic_id             tweet_id     score   run_id\n",
       "0    covid-19  1235714275752267776  0.544319  Model_4\n",
       "1    covid-19  1235256530728972290  0.424780  Model_4\n",
       "2    covid-19  1235648554338791427  0.348335  Model_4\n",
       "3    covid-19  1235674258858061825  0.547828  Model_4\n",
       "4    covid-19  1235663306246860800  0.501010  Model_4\n",
       "..        ...                  ...       ...      ...\n",
       "145  covid-19  1235914080931766274  0.529747  Model_4\n",
       "146  covid-19  1235770706765451264  0.488351  Model_4\n",
       "147  covid-19  1235973416995315712  0.525457  Model_4\n",
       "148  covid-19  1235675024738185239  0.414652  Model_4\n",
       "149  covid-19  1235682242774437888  0.503702  Model_4\n",
       "\n",
       "[150 rows x 4 columns]"
      ]
     },
     "execution_count": 139,
     "metadata": {},
     "output_type": "execute_result"
    }
   ],
   "source": [
    "results = pd.DataFrame(columns=['topic_id', 'tweet_id', 'score', 'run_id'])\n",
    "results['tweet_id'] = dev['tweet_id']\n",
    "results['score'] = preds_proba\n",
    "results['topic_id'] = 'covid-19'\n",
    "results['run_id'] = 'Model_4'\n",
    "\n",
    "results"
   ]
  },
  {
   "cell_type": "code",
   "execution_count": 140,
   "metadata": {},
   "outputs": [],
   "source": [
    "results.to_csv('golf_system_results_4.tsv', sep='\\t', header=False, index=False, float_format='%.15f')"
   ]
  },
  {
   "cell_type": "raw",
   "metadata": {},
   "source": [
    " ======================================== RESULTS for golf_system_results_4.tsv =========================================\n",
    "INFO : AVERAGE PRECISION:            0.8132    \n",
    "INFO : ========================================================================================================================\n",
    "INFO : RECIPROCAL RANK:              1.0000    \n",
    "INFO : ========================================================================================================================\n",
    "INFO : R-PRECISION (R=72):           0.7361    \n",
    "INFO : ========================================================================================================================\n",
    "INFO : PRECISION@N:                  @1        @3        @5        @10       @20       @50       \n",
    "INFO :                               1.0000    1.0000    1.0000    0.8000    0.9000    0.8400    \n",
    "INFO : ========================================================================================================================"
   ]
  },
  {
   "cell_type": "code",
   "execution_count": null,
   "metadata": {},
   "outputs": [],
   "source": []
  }
 ],
 "metadata": {
  "kernelspec": {
   "display_name": "Python 3",
   "language": "python",
   "name": "python3"
  },
  "language_info": {
   "codemirror_mode": {
    "name": "ipython",
    "version": 3
   },
   "file_extension": ".py",
   "mimetype": "text/x-python",
   "name": "python",
   "nbconvert_exporter": "python",
   "pygments_lexer": "ipython3",
   "version": "3.7.3"
  }
 },
 "nbformat": 4,
 "nbformat_minor": 4
}
