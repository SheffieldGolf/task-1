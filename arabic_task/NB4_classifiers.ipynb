{
 "cells": [
  {
   "cell_type": "markdown",
   "metadata": {},
   "source": [
    "# scikit-learn Classification Model Benchmarking\n",
    "\n",
    "Testing out some different classifiers in scikit-learn using just the TFIDF features of the translated Arabic data to begin with."
   ]
  },
  {
   "cell_type": "code",
   "execution_count": 1,
   "metadata": {},
   "outputs": [],
   "source": [
    "import pandas as pd\n",
    "import numpy as np\n",
    "import warnings\n",
    "from sklearn.naive_bayes import GaussianNB\n",
    "from sklearn.ensemble import RandomForestClassifier, AdaBoostClassifier, GradientBoostingClassifier\n",
    "from sklearn.neighbors import KNeighborsClassifier\n",
    "from sklearn.linear_model import SGDClassifier\n",
    "from sklearn.model_selection import cross_validate, GridSearchCV\n",
    "from sklearn.metrics import precision_score, recall_score, average_precision_score\n",
    "\n",
    "warnings.filterwarnings('ignore') \n",
    "\n",
    "X = pd.read_csv(\"dataset_features/data_stem_tfidf_features.csv\", index_col=0)\n",
    "y = pd.read_csv(\"translated_tweets_t1.csv\")['label'].to_list()\n",
    "\n",
    "np.random.seed(42)"
   ]
  },
  {
   "cell_type": "code",
   "execution_count": 2,
   "metadata": {},
   "outputs": [
    {
     "name": "stdout",
     "output_type": "stream",
     "text": [
      "Naive Bayes\n",
      "Test F1 Score: 0.602\n",
      "Test MAP Score: 0.392 \n",
      "\n",
      "Random Forest\n",
      "Test F1 Score: 0.606\n",
      "Test MAP Score: 0.59 \n",
      "\n",
      "SGD\n",
      "Test F1 Score: 0.639\n",
      "Test MAP Score: 0.519 \n",
      "\n",
      "AdaBoost\n",
      "Test F1 Score: 0.625\n",
      "Test MAP Score: 0.514 \n",
      "\n",
      "Gradient Boosting\n",
      "Test F1 Score: 0.606\n",
      "Test MAP Score: 0.541 \n",
      "\n",
      "Baseline F1 Score: 0.468\n",
      "Baseline MAP Score: 0.306\n"
     ]
    }
   ],
   "source": [
    "models = [GaussianNB(), RandomForestClassifier(n_estimators=100), SGDClassifier(),\n",
    "          AdaBoostClassifier(), GradientBoostingClassifier()]#, KNeighborsClassifier()] # KNN takes an extremely long time\n",
    "models_str = [\"Naive Bayes\", \"Random Forest\", \"SGD\", \"AdaBoost\", \"Gradient Boosting\"]#, \"KNN\"]\n",
    "\n",
    "for i, model in enumerate(models):\n",
    "    scoring = {'acc': 'accuracy', 'prec_macro': 'precision_macro',\n",
    "               'rec_micro': 'recall_macro', 'map':'average_precision'}\n",
    "    scores = cross_validate(model, X, y, scoring=scoring, cv=5, \n",
    "                            return_train_score=True)\n",
    "    prec_mean = np.mean(scores['test_prec_macro'])\n",
    "    rec_mean = np.mean(scores['test_rec_micro'])\n",
    "    print(models_str[i])\n",
    "    print(\"Test F1 Score:\", \n",
    "          round((2 * prec_mean * rec_mean) / (prec_mean + rec_mean), 3))\n",
    "    print(\"Test MAP Score:\", round(np.mean(scores['test_map']), 3), '\\n')\n",
    "\n",
    "# Baseline 'predict same for every instance' scores\n",
    "baseline = [1]*len(y)\n",
    "base_r = recall_score(y, baseline)\n",
    "base_p = precision_score(y, baseline)\n",
    "base_f = (2 * base_r * base_p) / (base_r + base_p)\n",
    "base_map = average_precision_score(y, baseline)\n",
    "print(\"Baseline F1 Score:\", round(base_f, 3))\n",
    "print(\"Baseline MAP Score:\", round(base_map, 3))"
   ]
  },
  {
   "cell_type": "markdown",
   "metadata": {},
   "source": [
    "Adaboost, Gradient Boosting and Random Forest are the most promising here so focusing on those three for hyperparameter optimisation."
   ]
  },
  {
   "cell_type": "code",
   "execution_count": 3,
   "metadata": {},
   "outputs": [
    {
     "name": "stdout",
     "output_type": "stream",
     "text": [
      "Random Forest\n",
      "Best Test MAP Score: 0.598\n",
      "Parameters: {'n_estimators': 250}\n",
      "Test F1 Score for Model w/ Best MAP: 0.531 \n",
      "\n",
      "Gradient Boosting\n",
      "Best Test MAP Score: 0.578\n",
      "Parameters: {'learning_rate': 0.01, 'n_estimators': 150}\n",
      "Test F1 Score for Model w/ Best MAP: 0.538 \n",
      "\n",
      "AdaBoost\n",
      "Best Test MAP Score: 0.58\n",
      "Parameters: {'learning_rate': 0.1, 'n_estimators': 50}\n",
      "Test F1 Score for Model w/ Best MAP: 0.537 \n",
      "\n"
     ]
    }
   ],
   "source": [
    "select_models = [RandomForestClassifier(), GradientBoostingClassifier(), AdaBoostClassifier()]\n",
    "select_models_str = [\"Random Forest\", \"Gradient Boosting\", \"AdaBoost\"]\n",
    "\n",
    "rf_params = {'n_estimators':[50, 100, 150, 200, 250, 300]}\n",
    "gb_params = {'n_estimators':[50, 100, 150], 'learning_rate':[0.9, 0.5, 0.1, 0.01]}\n",
    "ada_params = {'n_estimators':[50, 100, 150], 'learning_rate':[0.9, 0.5, 0.1, 0.01]}\n",
    "model_params = [rf_params, gb_params, ada_params]\n",
    "scoring = {'f': 'f1_macro', 'map':'average_precision'}\n",
    "\n",
    "for i, model in enumerate(select_models):\n",
    "    cv = GridSearchCV(model, model_params[i], cv=5, scoring=scoring, refit=False)\n",
    "    cv.fit(X, y)\n",
    "    best_map_mean = np.max(cv.cv_results_['mean_test_map'])\n",
    "    best_f1_mean = cv.cv_results_['mean_test_f'][np.argmax(cv.cv_results_['mean_test_map'])]\n",
    "    print(select_models_str[i])\n",
    "    print(\"Best Test MAP Score:\", round(best_map_mean, 3))\n",
    "    print(\"Parameters:\", cv.cv_results_['params'][np.argmax(cv.cv_results_['mean_test_map'])])\n",
    "    print(\"Test F1 Score for Model w/ Best MAP:\", round(best_f1_mean, 3), '\\n')"
   ]
  },
  {
   "cell_type": "code",
   "execution_count": null,
   "metadata": {},
   "outputs": [],
   "source": []
  }
 ],
 "metadata": {
  "kernelspec": {
   "display_name": "Python 3",
   "language": "python",
   "name": "python3"
  },
  "language_info": {
   "codemirror_mode": {
    "name": "ipython",
    "version": 3
   },
   "file_extension": ".py",
   "mimetype": "text/x-python",
   "name": "python",
   "nbconvert_exporter": "python",
   "pygments_lexer": "ipython3",
   "version": "3.7.3"
  }
 },
 "nbformat": 4,
 "nbformat_minor": 4
}
